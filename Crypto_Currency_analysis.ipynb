{
  "nbformat": 4,
  "nbformat_minor": 0,
  "metadata": {
    "colab": {
      "provenance": [],
      "authorship_tag": "ABX9TyPK2+W0IbayN3E78Y9sp94W",
      "include_colab_link": true
    },
    "kernelspec": {
      "name": "python3",
      "display_name": "Python 3"
    },
    "language_info": {
      "name": "python"
    }
  },
  "cells": [
    {
      "cell_type": "markdown",
      "metadata": {
        "id": "view-in-github",
        "colab_type": "text"
      },
      "source": [
        "<a href=\"https://colab.research.google.com/github/SnehaVPujari007/Crypto-Data-Analysis/blob/main/Crypto_Currency_analysis.ipynb\" target=\"_parent\"><img src=\"https://colab.research.google.com/assets/colab-badge.svg\" alt=\"Open In Colab\"/></a>"
      ]
    },
    {
      "cell_type": "code",
      "source": [
        "import pandas as pd"
      ],
      "metadata": {
        "id": "SvaoWAwrGQlT"
      },
      "execution_count": 17,
      "outputs": []
    },
    {
      "cell_type": "code",
      "source": [
        "import requests\n",
        "\n",
        "# API endpoint\n",
        "url = \"https://api.coingecko.com/api/v3/coins/markets\"\n",
        "params = {\n",
        "    \"vs_currency\": \"usd\",\n",
        "    \"order\": \"market_cap_desc\",\n",
        "    \"per_page\": 50,\n",
        "    \"page\": 1,\n",
        "    \"sparkline\": False\n",
        "}\n",
        "\n"
      ],
      "metadata": {
        "id": "25lCBDL6zzUC"
      },
      "execution_count": 18,
      "outputs": []
    },
    {
      "cell_type": "code",
      "source": [
        "# Fetch data\n",
        "response = requests.get(url, params=params)\n",
        "data = response.json()\n",
        "\n",
        "# Extract required fields\n",
        "crypto_data = [\n",
        "    {\n",
        "        \"name\": coin[\"name\"],\n",
        "        \"symbol\": coin[\"symbol\"],\n",
        "        \"current_price\": coin[\"current_price\"],\n",
        "        \"market_cap\": coin[\"market_cap\"],\n",
        "        \"volume_24h\": coin[\"total_volume\"],\n",
        "        \"price_change_24h\": coin[\"price_change_percentage_24h\"]\n",
        "    }\n",
        "    for coin in data\n",
        "]\n"
      ],
      "metadata": {
        "id": "Hks5r18WIblb"
      },
      "execution_count": null,
      "outputs": []
    },
    {
      "cell_type": "code",
      "source": [
        "top_5 = sorted(crypto_data, key=lambda x: x[\"market_cap\"], reverse=True)[:5]\n",
        "top_5 = pd.DataFrame(top_5)\n",
        "print(top_5)"
      ],
      "metadata": {
        "colab": {
          "base_uri": "https://localhost:8080/"
        },
        "id": "7XQE7oNcz6KH",
        "outputId": "ae28358c-7c30-4b92-f9a4-072153850901"
      },
      "execution_count": 19,
      "outputs": [
        {
          "output_type": "stream",
          "name": "stdout",
          "text": [
            "       name symbol  current_price     market_cap   volume_24h  \\\n",
            "0   Bitcoin    btc      96936.000  1916689917818  92444442828   \n",
            "1  Ethereum    eth       3134.790   377670267659  34216696002   \n",
            "2    Tether   usdt          1.001   130400176332  60069321161   \n",
            "3    Solana    sol        240.630   114365678232   9307416053   \n",
            "4       BNB    bnb        609.960    88940993569   1729973640   \n",
            "\n",
            "   price_change_24h  \n",
            "0           5.10327  \n",
            "1           1.12770  \n",
            "2           0.00400  \n",
            "3           3.16777  \n",
            "4          -0.47018  \n"
          ]
        }
      ]
    },
    {
      "cell_type": "code",
      "source": [
        "avg_price = sum([coin[\"current_price\"] for coin in crypto_data]) / len(crypto_data)\n",
        "print(avg_price)"
      ],
      "metadata": {
        "colab": {
          "base_uri": "https://localhost:8080/"
        },
        "id": "-CTriJVJz7nO",
        "outputId": "1ff7c3cc-64af-4f02-c4d9-47fc80679444"
      },
      "execution_count": 20,
      "outputs": [
        {
          "output_type": "stream",
          "name": "stdout",
          "text": [
            "4240.7583859356\n"
          ]
        }
      ]
    },
    {
      "cell_type": "code",
      "source": [
        "highest_change = max(crypto_data, key=lambda x: x[\"price_change_24h\"])\n",
        "lowest_change = min(crypto_data, key=lambda x: x[\"price_change_24h\"])\n",
        "\n",
        "print(f\"Highest price change: {highest_change} \")\n",
        "print(f\"Highest price change: {lowest_change} \")"
      ],
      "metadata": {
        "colab": {
          "base_uri": "https://localhost:8080/"
        },
        "id": "NQ0uSPEAz_bJ",
        "outputId": "724ff48b-0719-4477-f008-cb8f2642c472"
      },
      "execution_count": 22,
      "outputs": [
        {
          "output_type": "stream",
          "name": "stdout",
          "text": [
            "Highest price change: {'name': 'Bitcoin Cash', 'symbol': 'bch', 'current_price': 485.6, 'market_cap': 9563030042, 'volume_24h': 750510296, 'price_change_24h': 11.27945} \n",
            "Highest price change: {'name': 'Bonk', 'symbol': 'bonk', 'current_price': 5.114e-05, 'market_cap': 3848212271, 'volume_24h': 2383745042, 'price_change_24h': -8.79811} \n"
          ]
        }
      ]
    },
    {
      "cell_type": "code",
      "source": [
        "pip install gspread oauth2client\n"
      ],
      "metadata": {
        "colab": {
          "base_uri": "https://localhost:8080/"
        },
        "id": "hgOuUpYg1dfg",
        "outputId": "75565426-0dc6-45bc-8da6-8bafd50e6a37"
      },
      "execution_count": 23,
      "outputs": [
        {
          "output_type": "stream",
          "name": "stdout",
          "text": [
            "Requirement already satisfied: gspread in /usr/local/lib/python3.10/dist-packages (6.0.2)\n",
            "Requirement already satisfied: oauth2client in /usr/local/lib/python3.10/dist-packages (4.1.3)\n",
            "Requirement already satisfied: google-auth>=1.12.0 in /usr/local/lib/python3.10/dist-packages (from gspread) (2.27.0)\n",
            "Requirement already satisfied: google-auth-oauthlib>=0.4.1 in /usr/local/lib/python3.10/dist-packages (from gspread) (1.2.1)\n",
            "Requirement already satisfied: StrEnum==0.4.15 in /usr/local/lib/python3.10/dist-packages (from gspread) (0.4.15)\n",
            "Requirement already satisfied: httplib2>=0.9.1 in /usr/local/lib/python3.10/dist-packages (from oauth2client) (0.22.0)\n",
            "Requirement already satisfied: pyasn1>=0.1.7 in /usr/local/lib/python3.10/dist-packages (from oauth2client) (0.6.1)\n",
            "Requirement already satisfied: pyasn1-modules>=0.0.5 in /usr/local/lib/python3.10/dist-packages (from oauth2client) (0.4.1)\n",
            "Requirement already satisfied: rsa>=3.1.4 in /usr/local/lib/python3.10/dist-packages (from oauth2client) (4.9)\n",
            "Requirement already satisfied: six>=1.6.1 in /usr/local/lib/python3.10/dist-packages (from oauth2client) (1.16.0)\n",
            "Requirement already satisfied: cachetools<6.0,>=2.0.0 in /usr/local/lib/python3.10/dist-packages (from google-auth>=1.12.0->gspread) (5.5.0)\n",
            "Requirement already satisfied: requests-oauthlib>=0.7.0 in /usr/local/lib/python3.10/dist-packages (from google-auth-oauthlib>=0.4.1->gspread) (1.3.1)\n",
            "Requirement already satisfied: pyparsing!=3.0.0,!=3.0.1,!=3.0.2,!=3.0.3,<4,>=2.4.2 in /usr/local/lib/python3.10/dist-packages (from httplib2>=0.9.1->oauth2client) (3.2.0)\n",
            "Requirement already satisfied: oauthlib>=3.0.0 in /usr/local/lib/python3.10/dist-packages (from requests-oauthlib>=0.7.0->google-auth-oauthlib>=0.4.1->gspread) (3.2.2)\n",
            "Requirement already satisfied: requests>=2.0.0 in /usr/local/lib/python3.10/dist-packages (from requests-oauthlib>=0.7.0->google-auth-oauthlib>=0.4.1->gspread) (2.32.3)\n",
            "Requirement already satisfied: charset-normalizer<4,>=2 in /usr/local/lib/python3.10/dist-packages (from requests>=2.0.0->requests-oauthlib>=0.7.0->google-auth-oauthlib>=0.4.1->gspread) (3.4.0)\n",
            "Requirement already satisfied: idna<4,>=2.5 in /usr/local/lib/python3.10/dist-packages (from requests>=2.0.0->requests-oauthlib>=0.7.0->google-auth-oauthlib>=0.4.1->gspread) (3.10)\n",
            "Requirement already satisfied: urllib3<3,>=1.21.1 in /usr/local/lib/python3.10/dist-packages (from requests>=2.0.0->requests-oauthlib>=0.7.0->google-auth-oauthlib>=0.4.1->gspread) (2.2.3)\n",
            "Requirement already satisfied: certifi>=2017.4.17 in /usr/local/lib/python3.10/dist-packages (from requests>=2.0.0->requests-oauthlib>=0.7.0->google-auth-oauthlib>=0.4.1->gspread) (2024.8.30)\n"
          ]
        }
      ]
    },
    {
      "cell_type": "code",
      "source": [
        "import gspread\n",
        "from oauth2client.service_account import ServiceAccountCredentials\n",
        "import requests\n",
        "import time\n",
        "\n",
        "\n"
      ],
      "metadata": {
        "id": "Xn4Rbr1u_H7k"
      },
      "execution_count": 25,
      "outputs": []
    },
    {
      "cell_type": "code",
      "source": [
        "# Authenticate with Google Sheets\n",
        "\n",
        "scope = [\"https://spreadsheets.google.com/feeds\",\n",
        "         \"https://www.googleapis.com/auth/drive\",\n",
        "         'https://www.googleapis.com/auth/spreadsheets']\n",
        "creds = ServiceAccountCredentials.from_json_keyfile_name(\"/content/melodic-eye-425616-e1-7cce7250f0a4.json\", scope)\n",
        "client = gspread.authorize(creds)\n",
        "\n",
        "spreadsheet_url = \"https://docs.google.com/spreadsheets/d/1oSlCyyUgCVWJ14caOcYVMfL2ZFLot0x3yoJveeVVvRI/edit?usp=sharing\"\n",
        "\n",
        "spreadsheet_key = \"1oSlCyyUgCVWJ14caOcYVMfL2ZFLot0x3yoJveeVVvRI\"\n",
        "sheet = client.open_by_key(spreadsheet_key).sheet1\n",
        "\n"
      ],
      "metadata": {
        "id": "iZ7nGxLmItzS"
      },
      "execution_count": 26,
      "outputs": []
    },
    {
      "cell_type": "code",
      "source": [
        "#Fetch Cryptocurrency Data\n",
        "def fetch_crypto_data():\n",
        "    url = \"https://api.coingecko.com/api/v3/coins/markets\"\n",
        "    params = {\n",
        "        \"vs_currency\": \"usd\",\n",
        "        \"order\": \"market_cap_desc\",\n",
        "        \"per_page\": 50,\n",
        "        \"page\": 1,\n",
        "        \"sparkline\": False,\n",
        "    }\n",
        "    response = requests.get(url, params=params)\n",
        "    return response.json()\n",
        "\n"
      ],
      "metadata": {
        "id": "QNQ3bC4zI9TF"
      },
      "execution_count": 27,
      "outputs": []
    },
    {
      "cell_type": "code",
      "source": [
        "# Update Data in Google Sheets\n",
        "def update_sheet():\n",
        "    # Fetch data\n",
        "    data = fetch_crypto_data()\n",
        "\n",
        "    # Clear existing sheet data\n",
        "    sheet.clear()\n",
        "\n",
        "    # Add headers\n",
        "    headers = [\"Name\", \"Symbol\", \"Price (USD)\", \"Market Cap\", \"Volume (24h)\", \"Price Change (24h %)\"]\n",
        "    sheet.append_row(headers)\n",
        "\n",
        "    # Add cryptocurrency data\n",
        "    for coin in data:\n",
        "        row = [\n",
        "            coin[\"name\"],\n",
        "            coin[\"symbol\"],\n",
        "            coin[\"current_price\"],\n",
        "            coin[\"market_cap\"],\n",
        "            coin[\"total_volume\"],\n",
        "            coin[\"price_change_percentage_24h\"],\n",
        "        ]\n",
        "        sheet.append_row(row)\n",
        "\n"
      ],
      "metadata": {
        "id": "aqw8bhgSJHmd"
      },
      "execution_count": 28,
      "outputs": []
    },
    {
      "cell_type": "code",
      "source": [
        "# Run Updates Periodically\n",
        "while True:\n",
        "    update_sheet()\n",
        "    print(\"Google Sheet updated.\")\n",
        "    time.sleep(300)  # Update every 5 minutes"
      ],
      "metadata": {
        "colab": {
          "base_uri": "https://localhost:8080/"
        },
        "id": "IpHesKMNJRta",
        "outputId": "6b102a85-2cbf-45fa-b66d-96b42bc4cb29"
      },
      "execution_count": null,
      "outputs": [
        {
          "output_type": "stream",
          "name": "stdout",
          "text": [
            "Google Sheet updated.\n",
            "Google Sheet updated.\n"
          ]
        }
      ]
    }
  ]
}