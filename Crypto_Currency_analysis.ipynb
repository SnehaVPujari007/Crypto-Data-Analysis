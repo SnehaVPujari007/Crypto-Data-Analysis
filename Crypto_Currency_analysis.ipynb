{
  "nbformat": 4,
  "nbformat_minor": 0,
  "metadata": {
    "colab": {
      "provenance": [],
      "include_colab_link": true
    },
    "kernelspec": {
      "name": "python3",
      "display_name": "Python 3"
    },
    "language_info": {
      "name": "python"
    }
  },
  "cells": [
    {
      "cell_type": "markdown",
      "metadata": {
        "id": "view-in-github",
        "colab_type": "text"
      },
      "source": [
        "<a href=\"https://colab.research.google.com/github/SnehaVPujari007/Crypto-Data-Analysis/blob/main/Crypto_Currency_analysis.ipynb\" target=\"_parent\"><img src=\"https://colab.research.google.com/assets/colab-badge.svg\" alt=\"Open In Colab\"/></a>"
      ]
    },
    {
      "cell_type": "code",
      "source": [
        "from IPython import get_ipython\n",
        "from IPython.display import display\n",
        "import pandas as pd\n",
        "import requests\n",
        "import gspread\n",
        "from oauth2client.service_account import ServiceAccountCredentials\n",
        "import time\n",
        "\n",
        "scope = [\"https://spreadsheets.google.com/feeds\",\n",
        "         \"https://www.googleapis.com/auth/drive\",\n",
        "         'https://www.googleapis.com/auth/spreadsheets']\n",
        "creds = ServiceAccountCredentials.from_json_keyfile_name(\"/content/melodic-eye-425616-e1-7cce7250f0a4.json\", scope)\n",
        "client = gspread.authorize(creds)\n",
        "\n",
        "spreadsheet_url = \"https://docs.google.com/spreadsheets/d/1oSlCyyUgCVWJ14caOcYVMfL2ZFLot0x3yoJveeVVvRI/edit?usp=sharing\"\n",
        "\n",
        "spreadsheet_key = \"1oSlCyyUgCVWJ14caOcYVMfL2ZFLot0x3yoJveeVVvRI\"\n",
        "sheet = client.open_by_key(spreadsheet_key).sheet1\n",
        "\n",
        "# Fetch Cryptocurrency Data\n",
        "def fetch_crypto_data():\n",
        "    url = \"https://api.coingecko.com/api/v3/coins/markets\"\n",
        "    params = {\n",
        "        \"vs_currency\": \"usd\",\n",
        "        \"order\": \"market_cap_desc\",\n",
        "        \"per_page\": 50,\n",
        "        \"page\": 1,\n",
        "        \"sparkline\": False,\n",
        "    }\n",
        "    response = requests.get(url, params=params)\n",
        "    return response.json()\n",
        "\n",
        "# Update Data in Google Sheets\n",
        "def update_sheet():\n",
        "    # Fetch data\n",
        "    data = fetch_crypto_data()\n",
        "\n",
        "    # Clear existing sheet data\n",
        "    sheet.clear()\n",
        "\n",
        "    # Add headers\n",
        "    headers = [\"Name\", \"Symbol\", \"Price (USD)\", \"Market Cap\", \"Volume (24h)\", \"Price Change (24h %)\"]\n",
        "    sheet.append_row(headers)\n",
        "\n",
        "    # Add cryptocurrency data\n",
        "    for coin in data:\n",
        "        row = [\n",
        "            coin[\"name\"],\n",
        "            coin[\"symbol\"],\n",
        "            coin[\"current_price\"],\n",
        "            coin[\"market_cap\"],\n",
        "            coin[\"total_volume\"],\n",
        "            coin[\"price_change_percentage_24h\"],\n",
        "        ]\n",
        "        sheet.append_row(row)\n",
        "\n",
        "    # Calculate additional values\n",
        "    highest_change = max(data, key=lambda x: x[\"price_change_percentage_24h\"])\n",
        "    lowest_change = min(data, key=lambda x: x[\"price_change_percentage_24h\"])\n",
        "    top_5 = sorted(data, key=lambda x: x[\"market_cap\"], reverse=True)[:5]\n",
        "    top_5_df = pd.DataFrame(top_5)\n",
        "    avg_price = sum([coin[\"current_price\"] for coin in data]) / len(data)\n",
        "\n",
        "    # Add calculated values to the sheet\n",
        "    sheet.append_row([\"\", \"\", \"\", \"\", \"\", \"\"])  # Add an empty row for spacing\n",
        "    sheet.append_row([\"Highest Price Change:\", highest_change[\"name\"], highest_change[\"price_change_percentage_24h\"]])\n",
        "    sheet.append_row([\"Lowest Price Change:\", lowest_change[\"name\"], lowest_change[\"price_change_percentage_24h\"]])\n",
        "    sheet.append_row([\"\", \"\", \"\", \"\", \"\", \"\"])  # Add an empty row for spacing\n",
        "    sheet.append_row([\"Average Price:\", avg_price])\n",
        "    sheet.append_row([\"\", \"\", \"\", \"\", \"\", \"\"])  # Add an empty row for spacing\n",
        "    sheet.append_row([\"Top 5 Cryptocurrencies by Market Cap:\"])\n",
        "    # Add top_5_df to the sheet\n",
        "    for index, row in top_5_df.iterrows():\n",
        "        sheet.append_row([row[\"name\"], row[\"symbol\"], row[\"current_price\"], row[\"market_cap\"], row[\"total_volume\"], row[\"price_change_percentage_24h\"]])\n",
        "\n",
        "# Run Updates Periodically\n",
        "while True:\n",
        "    update_sheet()\n",
        "    print(\"Google Sheet updated.\")\n",
        "    time.sleep(300)  # Update every 5 minutes # Increased sleep time to 30"
      ],
      "metadata": {
        "colab": {
          "base_uri": "https://localhost:8080/"
        },
        "id": "MMHa9Jlgl9c-",
        "outputId": "f323151c-c869-4011-bcf8-8473297ea533"
      },
      "execution_count": null,
      "outputs": [
        {
          "output_type": "stream",
          "name": "stdout",
          "text": [
            "Google Sheet updated.\n"
          ]
        }
      ]
    }
  ]
}